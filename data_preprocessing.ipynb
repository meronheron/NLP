{
 "cells": [
  {
   "cell_type": "code",
   "execution_count": null,
   "id": "4f3d47d9",
   "metadata": {},
   "outputs": [],
   "source": [
    "import pandas as pd\n",
    "from langdetect import detect\n",
    "import emoji\n",
    "import re\n",
    "import nltk\n",
    "from nltk.corpus import stopwords\n"
   ]
  },
  {
   "cell_type": "code",
   "execution_count": null,
   "id": "276bed40",
   "metadata": {},
   "outputs": [],
   "source": [
    "nltk.download('stopwords')# getting stopwords\n",
    "stop_words = set(stopwords.words('english'))"
   ]
  },
  {
   "cell_type": "code",
   "execution_count": null,
   "id": "cf92a705",
   "metadata": {},
   "outputs": [],
   "source": [
    "#get the data to be preprocessed\n",
    "df = pd.read_csv(\"duolingo_reviews.csv\")\n",
    "df = df[['content']].copy()"
   ]
  },
  {
   "cell_type": "code",
   "execution_count": null,
   "id": "d98772ae",
   "metadata": {},
   "outputs": [],
   "source": [
    "#to clean the user reviews\n",
    "def clean_text(text):\n",
    "        try:\n",
    "          if detect(text) != 'en':\n",
    "            return None\n",
    "    \n",
    "          # lowercase\n",
    "          text = text.lower()\n",
    "          # Convert emojis to text\n",
    "          text = emoji.demojize(text, delimiters=(\" \", \" \"))\n",
    "          # Remove URLs,@, #\n",
    "          text = re.sub(r\"http\\S+|www\\S+|https\\S+\", '', text)  \n",
    "          text = re.sub(r\"@\\w+\", '', text)                     \n",
    "          text = re.sub(r\"#\\w+\", '', text)  \n",
    "          # Remove extra spaces\n",
    "          text = re.sub(r'\\s+', ' ', text).strip()\n",
    "            \n",
    "          text = re.sub(r\"[^a-zA-Z0-9\\s]\", '', text)\n",
    "          # Remove stop words\n",
    "          text_tokens = text.split()\n",
    "          text_tokens = [word for word in text_tokens if word not in stop_words]\n",
    "          text = ' '.join(text_tokens)  \n",
    "          return text \n",
    "        except:\n",
    "                None\n",
    "        "
   ]
  },
  {
   "cell_type": "code",
   "execution_count": null,
   "id": "6691a6cf",
   "metadata": {},
   "outputs": [],
   "source": [
    "\n",
    "df['clean_content'] = df['content'].apply(clean_text)#apply cleaning to the content column \n",
    "#drop a row if it's not a clean content\n",
    "df_clean = df.dropna(subset=['clean_content']).reset_index(drop=True)"
   ]
  }
 ],
 "metadata": {
  "language_info": {
   "name": "python"
  }
 },
 "nbformat": 4,
 "nbformat_minor": 5
}
