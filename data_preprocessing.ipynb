{
 "cells": [
  {
   "cell_type": "code",
   "execution_count": 1,
   "id": "4f3d47d9",
   "metadata": {},
   "outputs": [],
   "source": [
    "import pandas as pd\n",
    "from langdetect import detect\n",
    "import emoji\n",
    "import re\n",
    "import nltk\n",
    "from nltk.corpus import stopwords\n"
   ]
  },
  {
   "cell_type": "code",
   "execution_count": 2,
   "id": "276bed40",
   "metadata": {},
   "outputs": [
    {
     "name": "stderr",
     "output_type": "stream",
     "text": [
      "[nltk_data] Downloading package stopwords to\n",
      "[nltk_data]     C:\\Users\\hp\\AppData\\Roaming\\nltk_data...\n",
      "[nltk_data]   Package stopwords is already up-to-date!\n"
     ]
    }
   ],
   "source": [
    "nltk.download('stopwords')# getting stopwords\n",
    "stop_words = set(stopwords.words('english'))"
   ]
  },
  {
   "cell_type": "code",
   "execution_count": 3,
   "id": "cf92a705",
   "metadata": {},
   "outputs": [],
   "source": [
    "#get the data to be preprocessed\n",
    "df = pd.read_csv(\"duolingo_reviews.csv\")\n",
    "df = df[['content']].copy()"
   ]
  },
  {
   "cell_type": "code",
   "execution_count": 4,
   "id": "56416c66",
   "metadata": {},
   "outputs": [],
   "source": [
    "def remove_emojis(text):\n",
    "    \"\"\"remove all emojis  from the text.\"\"\"\n",
    "    emoji_pattern = re.compile(\n",
    "        \"[\"\n",
    "        u\"\\U0001F600-\\U0001F64F\"  \n",
    "        u\"\\U0001F300-\\U0001F5FF\"  \n",
    "        u\"\\U0001F680-\\U0001F6FF\"  \n",
    "        u\"\\U0001F700-\\U0001F77F\" \n",
    "        u\"\\U0001F780-\\U0001F7FF\"  \n",
    "        u\"\\U0001F800-\\U0001F8FF\" \n",
    "        u\"\\U0001F900-\\U0001F9FF\" \n",
    "        u\"\\U0001FA00-\\U0001FA6F\" \n",
    "        u\"\\U0001FA70-\\U0001FAFF\"  \n",
    "        u\"\\U00002700-\\U000027BF\"  \n",
    "        u\"\\U000024C2-\\U0001F251\"  \n",
    "        u\"\\U0001F1E0-\\U0001F1FF\"  \n",
    "        \"]+\", flags=re.UNICODE\n",
    "    )\n",
    "    return emoji_pattern.sub(r'', str(text))"
   ]
  },
  {
   "cell_type": "code",
   "execution_count": 5,
   "id": "639314b1",
   "metadata": {},
   "outputs": [],
   "source": [
    "df['content'] = df['content'].astype(str).apply(remove_emojis)\n"
   ]
  },
  {
   "cell_type": "code",
   "execution_count": 6,
   "id": "d98772ae",
   "metadata": {},
   "outputs": [],
   "source": [
    "#to clean the user reviews\n",
    "def clean_text(text):\n",
    "        try:\n",
    "          if detect(text) != 'en':\n",
    "            return None\n",
    "          # lowercase\n",
    "          text = text.lower()\n",
    "          # remove URLs,@, #\n",
    "          text = re.sub(r\"http\\S+|www\\S+|https\\S+\", '', text)  \n",
    "          text = re.sub(r\"@\\w+\", '', text)                     \n",
    "          text = re.sub(r\"#\\w+\", '', text)  \n",
    "          # remove extra spaces\n",
    "          text = re.sub(r'\\s+', ' ', text).strip()\n",
    "\n",
    "          text = re.sub(r\"[^a-zA-Z\\s]\", '', text)\n",
    "          # remove stop words\n",
    "          stop_words = set(stopwords.words('english'))\n",
    "          text_tokens = text.split()\n",
    "          text_tokens = [word for word in text_tokens if word not in stop_words]\n",
    "          text = ' '.join(text_tokens)  \n",
    "          return text \n",
    "        except:\n",
    "                None\n",
    "        "
   ]
  },
  {
   "cell_type": "code",
   "execution_count": 7,
   "id": "6691a6cf",
   "metadata": {},
   "outputs": [],
   "source": [
    "\n",
    "df['clean_content'] = df['content'].apply(clean_text)#apply cleaning to the content column \n",
    "#drop a row if it's not a clean content\n",
    "df_clean = df.dropna(subset=['clean_content']).reset_index(drop=True)"
   ]
  },
  {
   "cell_type": "code",
   "execution_count": 8,
   "id": "eaea0232",
   "metadata": {},
   "outputs": [],
   "source": [
    "df_clean.to_csv(\"duolingo_reviews_cleaned.csv\", index=False)"
   ]
  },
  {
   "cell_type": "code",
   "execution_count": 9,
   "id": "fccfbd77",
   "metadata": {},
   "outputs": [
    {
     "name": "stdout",
     "output_type": "stream",
     "text": [
      "the total user reviews after cleaning: 1375\n"
     ]
    }
   ],
   "source": [
    "print(f\"the total user reviews after cleaning: {len(df_clean)}\")"
   ]
  }
 ],
 "metadata": {
  "kernelspec": {
   "display_name": "nlp",
   "language": "python",
   "name": "python3"
  },
  "language_info": {
   "codemirror_mode": {
    "name": "ipython",
    "version": 3
   },
   "file_extension": ".py",
   "mimetype": "text/x-python",
   "name": "python",
   "nbconvert_exporter": "python",
   "pygments_lexer": "ipython3",
   "version": "3.13.5"
  }
 },
 "nbformat": 4,
 "nbformat_minor": 5
}
