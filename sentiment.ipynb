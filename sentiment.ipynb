{
 "cells": [
  {
   "cell_type": "code",
   "execution_count": 1,
   "id": "ded0e080",
   "metadata": {},
   "outputs": [
    {
     "name": "stderr",
     "output_type": "stream",
     "text": [
      "[nltk_data] Downloading package vader_lexicon to\n",
      "[nltk_data]     C:\\Users\\hp\\AppData\\Roaming\\nltk_data...\n",
      "[nltk_data]   Package vader_lexicon is already up-to-date!\n"
     ]
    },
    {
     "data": {
      "text/plain": [
       "True"
      ]
     },
     "execution_count": 1,
     "metadata": {},
     "output_type": "execute_result"
    }
   ],
   "source": [
    "import pandas as pd\n",
    "from nltk.sentiment.vader import SentimentIntensityAnalyzer\n",
    "import nltk\n",
    "import matplotlib.pyplot as plt\n",
    "import seaborn as sns\n",
    "\n",
    "# Download VADER lexicon\n",
    "nltk.download('vader_lexicon')"
   ]
  },
  {
   "cell_type": "code",
   "execution_count": 2,
   "id": "f87ce811",
   "metadata": {},
   "outputs": [
    {
     "data": {
      "text/html": [
       "<div>\n",
       "<style scoped>\n",
       "    .dataframe tbody tr th:only-of-type {\n",
       "        vertical-align: middle;\n",
       "    }\n",
       "\n",
       "    .dataframe tbody tr th {\n",
       "        vertical-align: top;\n",
       "    }\n",
       "\n",
       "    .dataframe thead th {\n",
       "        text-align: right;\n",
       "    }\n",
       "</style>\n",
       "<table border=\"1\" class=\"dataframe\">\n",
       "  <thead>\n",
       "    <tr style=\"text-align: right;\">\n",
       "      <th></th>\n",
       "      <th>content</th>\n",
       "    </tr>\n",
       "  </thead>\n",
       "  <tbody>\n",
       "    <tr>\n",
       "      <th>0</th>\n",
       "      <td>bug new updates inlesson streak UI green Bolt ...</td>\n",
       "    </tr>\n",
       "    <tr>\n",
       "      <th>1</th>\n",
       "      <td>thing ressetted day streekI hate stuipid duoli...</td>\n",
       "    </tr>\n",
       "    <tr>\n",
       "      <th>2</th>\n",
       "      <td>Whats happened animation validation last updat...</td>\n",
       "    </tr>\n",
       "    <tr>\n",
       "      <th>3</th>\n",
       "      <td>please dont immediately stop speaking lessons ...</td>\n",
       "    </tr>\n",
       "    <tr>\n",
       "      <th>4</th>\n",
       "      <td>I love app</td>\n",
       "    </tr>\n",
       "  </tbody>\n",
       "</table>\n",
       "</div>"
      ],
      "text/plain": [
       "                                             content\n",
       "0  bug new updates inlesson streak UI green Bolt ...\n",
       "1  thing ressetted day streekI hate stuipid duoli...\n",
       "2  Whats happened animation validation last updat...\n",
       "3  please dont immediately stop speaking lessons ...\n",
       "4                                         I love app"
      ]
     },
     "execution_count": 2,
     "metadata": {},
     "output_type": "execute_result"
    }
   ],
   "source": [
    "df = pd.read_csv(\"duolingo_reviews_cleanwemoji.csv\")\n",
    "df.head()\n"
   ]
  },
  {
   "cell_type": "code",
   "execution_count": 3,
   "id": "e75c5c4a",
   "metadata": {},
   "outputs": [],
   "source": [
    "sia = SentimentIntensityAnalyzer()\n"
   ]
  },
  {
   "cell_type": "code",
   "execution_count": 4,
   "id": "7f1e4724",
   "metadata": {},
   "outputs": [],
   "source": [
    "def get_sentiment(text):\n",
    "    score = sia.polarity_scores(text)\n",
    "    compound = score['compound']\n",
    "    if compound >= 0.05:\n",
    "        return 'positive'\n",
    "    elif compound <= -0.05:\n",
    "        return 'negative'\n",
    "    else:\n",
    "        return 'neutral'"
   ]
  },
  {
   "cell_type": "code",
   "execution_count": 5,
   "id": "0d89f026",
   "metadata": {},
   "outputs": [],
   "source": [
    "df['sentiment'] = df['content'].apply(get_sentiment)#apply sentiment analysis to the content column "
   ]
  },
  {
   "cell_type": "code",
   "execution_count": 6,
   "id": "42d99b75",
   "metadata": {},
   "outputs": [],
   "source": [
    "df['vader_scores'] = df['content'].apply(lambda x: sia.polarity_scores(str(x)))\n"
   ]
  },
  {
   "cell_type": "code",
   "execution_count": 7,
   "id": "9b8e8375",
   "metadata": {},
   "outputs": [
    {
     "name": "stdout",
     "output_type": "stream",
     "text": [
      "                                             content sentiment  \\\n",
      "0  bug new updates inlesson streak UI green Bolt ...  positive   \n",
      "1  thing ressetted day streekI hate stuipid duoli...  negative   \n",
      "2  Whats happened animation validation last updat...   neutral   \n",
      "3  please dont immediately stop speaking lessons ...  negative   \n",
      "4                                         I love app  positive   \n",
      "\n",
      "                                        vader_scores  \n",
      "0  {'neg': 0.0, 'neu': 0.898, 'pos': 0.102, 'comp...  \n",
      "1  {'neg': 0.346, 'neu': 0.654, 'pos': 0.0, 'comp...  \n",
      "2  {'neg': 0.0, 'neu': 1.0, 'pos': 0.0, 'compound...  \n",
      "3  {'neg': 0.206, 'neu': 0.617, 'pos': 0.177, 'co...  \n",
      "4  {'neg': 0.0, 'neu': 0.192, 'pos': 0.808, 'comp...  \n"
     ]
    }
   ],
   "source": [
    "print(df[['content', 'sentiment', 'vader_scores']].head())"
   ]
  },
  {
   "cell_type": "code",
   "execution_count": 8,
   "id": "e443a499",
   "metadata": {},
   "outputs": [
    {
     "name": "stdout",
     "output_type": "stream",
     "text": [
      "\n",
      "Sentiment values:\n",
      "sentiment\n",
      "positive    1150\n",
      "neutral      121\n",
      "negative     100\n",
      "Name: count, dtype: int64\n"
     ]
    }
   ],
   "source": [
    "print(\"\\nSentiment values:\")\n",
    "print(df['sentiment'].value_counts())"
   ]
  },
  {
   "cell_type": "code",
   "execution_count": 9,
   "id": "6de62d33",
   "metadata": {},
   "outputs": [
    {
     "data": {
      "image/png": "[encoded data removed]",
      "text/plain": [
       "<Figure size 400x400 with 1 Axes>"
      ]
     },
     "metadata": {},
     "output_type": "display_data"
    }
   ],
   "source": [
    "#graphical representation\n",
    "sentiment_counts = df['sentiment'].value_counts()\n",
    "colors = {\"negative\": \"red\", \"neutral\": \"yellow\", \"positive\": \"green\"}\n",
    "\n",
    "plt.figure(figsize=(4,4))\n",
    "sentiment_counts.plot(kind='bar', color=[colors[s] for s in sentiment_counts.index])\n",
    "plt.title(\"Sentiment Distribution of Duolingo Reviews (with emojis)\")\n",
    "plt.xlabel(\"Sentiment\")\n",
    "plt.ylabel(\"Number of Reviews\")\n",
    "plt.xticks(rotation=0)\n",
    "plt.show()"
   ]
  },
  {
   "cell_type": "code",
   "execution_count": 10,
   "id": "09a60b79",
   "metadata": {},
   "outputs": [],
   "source": [
    "#df[['content', 'sentiment', 'vader_scores']].to_csv(\"duolingo_vader_scores.csv\", index=False)"
   ]
  }
 ],
 "metadata": {
  "kernelspec": {
   "display_name": "nlp",
   "language": "python",
   "name": "python3"
  },
  "language_info": {
   "codemirror_mode": {
    "name": "ipython",
    "version": 3
   },
   "file_extension": ".py",
   "mimetype": "text/x-python",
   "name": "python",
   "nbconvert_exporter": "python",
   "pygments_lexer": "ipython3",
   "version": "3.13.5"
  }
 },
 "nbformat": 4,
 "nbformat_minor": 5
}
