{
 "cells": [
  {
   "cell_type": "code",
   "execution_count": 1,
   "id": "ded0e080",
   "metadata": {},
   "outputs": [
    {
     "name": "stderr",
     "output_type": "stream",
     "text": [
      "[nltk_data] Downloading package vader_lexicon to\n",
      "[nltk_data]     C:\\Users\\hp\\AppData\\Roaming\\nltk_data...\n"
     ]
    },
    {
     "data": {
      "text/plain": [
       "True"
      ]
     },
     "execution_count": 1,
     "metadata": {},
     "output_type": "execute_result"
    }
   ],
   "source": [
    "import pandas as pd\n",
    "from nltk.sentiment.vader import SentimentIntensityAnalyzer\n",
    "import nltk\n",
    "import matplotlib.pyplot as plt\n",
    "import seaborn as sns\n",
    "\n",
    "# Download VADER lexicon\n",
    "nltk.download('vader_lexicon')"
   ]
  },
  {
   "cell_type": "code",
   "execution_count": 2,
   "id": "f87ce811",
   "metadata": {},
   "outputs": [
    {
     "data": {
      "text/html": [
       "<div>\n",
       "<style scoped>\n",
       "    .dataframe tbody tr th:only-of-type {\n",
       "        vertical-align: middle;\n",
       "    }\n",
       "\n",
       "    .dataframe tbody tr th {\n",
       "        vertical-align: top;\n",
       "    }\n",
       "\n",
       "    .dataframe thead th {\n",
       "        text-align: right;\n",
       "    }\n",
       "</style>\n",
       "<table border=\"1\" class=\"dataframe\">\n",
       "  <thead>\n",
       "    <tr style=\"text-align: right;\">\n",
       "      <th></th>\n",
       "      <th>content</th>\n",
       "      <th>clean_content</th>\n",
       "    </tr>\n",
       "  </thead>\n",
       "  <tbody>\n",
       "    <tr>\n",
       "      <th>0</th>\n",
       "      <td>bug: new updates in-lesson streak UI, green Bo...</td>\n",
       "      <td>bug new updates inlesson streak ui green bolt ...</td>\n",
       "    </tr>\n",
       "    <tr>\n",
       "      <th>1</th>\n",
       "      <td>this thing ressetted my 90765 day streek.I hat...</td>\n",
       "      <td>thing ressetted day streeki hate stuipid duoli...</td>\n",
       "    </tr>\n",
       "    <tr>\n",
       "      <th>2</th>\n",
       "      <td>What's happened with the animation after valid...</td>\n",
       "      <td>whats happened animation validation last updat...</td>\n",
       "    </tr>\n",
       "    <tr>\n",
       "      <th>3</th>\n",
       "      <td>please don't immediately stop the speaking les...</td>\n",
       "      <td>please dont immediately stop speaking lessons ...</td>\n",
       "    </tr>\n",
       "    <tr>\n",
       "      <th>4</th>\n",
       "      <td>I love this app</td>\n",
       "      <td>love app</td>\n",
       "    </tr>\n",
       "  </tbody>\n",
       "</table>\n",
       "</div>"
      ],
      "text/plain": [
       "                                             content  \\\n",
       "0  bug: new updates in-lesson streak UI, green Bo...   \n",
       "1  this thing ressetted my 90765 day streek.I hat...   \n",
       "2  What's happened with the animation after valid...   \n",
       "3  please don't immediately stop the speaking les...   \n",
       "4                                    I love this app   \n",
       "\n",
       "                                       clean_content  \n",
       "0  bug new updates inlesson streak ui green bolt ...  \n",
       "1  thing ressetted day streeki hate stuipid duoli...  \n",
       "2  whats happened animation validation last updat...  \n",
       "3  please dont immediately stop speaking lessons ...  \n",
       "4                                           love app  "
      ]
     },
     "execution_count": 2,
     "metadata": {},
     "output_type": "execute_result"
    }
   ],
   "source": [
    "df = pd.read_csv(\"duolingo_reviews_cleanwemoji.csv\")\n",
    "df.head()\n"
   ]
  },
  {
   "cell_type": "code",
   "execution_count": 3,
   "id": "e75c5c4a",
   "metadata": {},
   "outputs": [],
   "source": [
    "sia = SentimentIntensityAnalyzer()\n"
   ]
  },
  {
   "cell_type": "code",
   "execution_count": 4,
   "id": "7f1e4724",
   "metadata": {},
   "outputs": [],
   "source": [
    "def get_sentiment(text):\n",
    "    score = sia.polarity_scores(text)\n",
    "    compound = score['compound']\n",
    "    if compound >= 0.05:\n",
    "        return 'positive'\n",
    "    elif compound <= -0.05:\n",
    "        return 'negative'\n",
    "    else:\n",
    "        return 'neutral'"
   ]
  },
  {
   "cell_type": "code",
   "execution_count": 5,
   "id": "0d89f026",
   "metadata": {},
   "outputs": [],
   "source": [
    "df['sentiment'] = df['content'].apply(get_sentiment)#apply sentiment analysis to the content column "
   ]
  },
  {
   "cell_type": "code",
   "execution_count": 6,
   "id": "42d99b75",
   "metadata": {},
   "outputs": [],
   "source": [
    "df['vader_scores'] = df['content'].apply(lambda x: sia.polarity_scores(str(x)))\n"
   ]
  },
  {
   "cell_type": "code",
   "execution_count": 7,
   "id": "9b8e8375",
   "metadata": {},
   "outputs": [
    {
     "name": "stdout",
     "output_type": "stream",
     "text": [
      "                                             content sentiment  \\\n",
      "0  bug: new updates in-lesson streak UI, green Bo...  positive   \n",
      "1  this thing ressetted my 90765 day streek.I hat...  negative   \n",
      "2  What's happened with the animation after valid...   neutral   \n",
      "3  please don't immediately stop the speaking les...   neutral   \n",
      "4                                    I love this app  positive   \n",
      "\n",
      "                                        vader_scores  \n",
      "0  {'neg': 0.0, 'neu': 0.94, 'pos': 0.06, 'compou...  \n",
      "1  {'neg': 0.252, 'neu': 0.748, 'pos': 0.0, 'comp...  \n",
      "2  {'neg': 0.0, 'neu': 1.0, 'pos': 0.0, 'compound...  \n",
      "3  {'neg': 0.091, 'neu': 0.785, 'pos': 0.124, 'co...  \n",
      "4  {'neg': 0.0, 'neu': 0.323, 'pos': 0.677, 'comp...  \n"
     ]
    }
   ],
   "source": [
    "print(df[['content', 'sentiment', 'vader_scores']].head())"
   ]
  },
  {
   "cell_type": "code",
   "execution_count": null,
   "id": "e443a499",
   "metadata": {},
   "outputs": [
    {
     "name": "stdout",
     "output_type": "stream",
     "text": [
      "\n",
      "Sentiment Counts:\n",
      "sentiment\n",
      "positive    1133\n",
      "negative     121\n",
      "neutral      119\n",
      "Name: count, dtype: int64\n"
     ]
    }
   ],
   "source": [
    "print(\"\\nSentiment values:\")\n",
    "print(df['sentiment'].value_counts())"
   ]
  },
  {
   "cell_type": "code",
   "execution_count": null,
   "id": "6de62d33",
   "metadata": {},
   "outputs": [
    {
     "data": {
      "image/png": "[encoded data removed]",
      "text/plain": [
       "<Figure size 400x400 with 1 Axes>"
      ]
     },
     "metadata": {},
     "output_type": "display_data"
    }
   ],
   "source": [
    "#graphical representation\n",
    "sentiment_counts = df['sentiment'].value_counts()\n",
    "colors = {\"negative\": \"red\", \"neutral\": \"yellow\", \"positive\": \"green\"}\n",
    "\n",
    "plt.figure(figsize=(4,4))\n",
    "sentiment_counts.plot(kind='bar', color=[colors[s] for s in sentiment_counts.index])\n",
    "plt.title(\"Sentiment Distribution of Duolingo Reviews (with emojis)\")\n",
    "plt.xlabel(\"Sentiment\")\n",
    "plt.ylabel(\"Number of Reviews\")\n",
    "plt.xticks(rotation=0)\n",
    "plt.show()"
   ]
  }
 ],
 "metadata": {
  "kernelspec": {
   "display_name": "nlp",
   "language": "python",
   "name": "python3"
  },
  "language_info": {
   "codemirror_mode": {
    "name": "ipython",
    "version": 3
   },
   "file_extension": ".py",
   "mimetype": "text/x-python",
   "name": "python",
   "nbconvert_exporter": "python",
   "pygments_lexer": "ipython3",
   "version": "3.13.5"
  }
 },
 "nbformat": 4,
 "nbformat_minor": 5
}
