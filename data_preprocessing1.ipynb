{
 "cells": [
  {
   "cell_type": "code",
   "execution_count": 1,
   "id": "aac802e7",
   "metadata": {},
   "outputs": [],
   "source": [
    "import pandas as pd\n",
    "from langdetect import detect\n",
    "import emoji\n",
    "import re\n",
    "import nltk\n",
    "from nltk.corpus import stopwords\n"
   ]
  },
  {
   "cell_type": "code",
   "execution_count": 2,
   "metadata": {},
   "outputs": [
    {
     "name": "stderr",
     "output_type": "stream",
     "text": [
      "[nltk_data] Downloading package stopwords to\n",
      "[nltk_data]     C:\\Users\\hp\\AppData\\Roaming\\nltk_data...\n",
      "[nltk_data]   Package stopwords is already up-to-date!\n"
     ]
    }
   ],
   "source": [
    "nltk.download('stopwords')# getting stopwords\n",
    "stop_words = set(stopwords.words('english'))"
   ]
  },
  {
   "cell_type": "code",
   "execution_count": 3,
   "id": "6ed58401",
   "metadata": {},
   "outputs": [],
   "source": [
    "#get the data to be preprocessed\n",
    "df = pd.read_csv(\"duolingo_reviews.csv\")\n",
    "df = df[['content']].copy()"
   ]
  },
  {
   "cell_type": "code",
   "execution_count": 4,
   "metadata": {},
   "outputs": [],
   "source": [
    "#to clean the user reviews\n",
    "def clean_text(text):\n",
    "        try:\n",
    "          if detect(text) != 'en':\n",
    "            return None\n",
    "          # lowercase\n",
    "          text = text.lower()\n",
    "          # remove URLs,@, #\n",
    "          text = re.sub(r\"http\\S+|www\\S+|https\\S+\", '', text)  \n",
    "          text = re.sub(r\"@\\w+\", '', text)                     \n",
    "          text = re.sub(r\"#\\w+\", '', text)  \n",
    "          # remove extra spaces\n",
    "          text = re.sub(r'\\s+', ' ', text).strip()\n",
    "\n",
    "          text = re.sub(r\"[^a-zA-Z\\s]\", '', text)\n",
    "          # remove stop words\n",
    "          stop_words = set(stopwords.words('english'))\n",
    "          text_tokens = text.split()\n",
    "          text_tokens = [word for word in text_tokens if word not in stop_words]\n",
    "          text = ' '.join(text_tokens)  \n",
    "          return text \n",
    "        except:\n",
    "                None"
   ]
  },
  {
   "cell_type": "code",
   "execution_count": 5,
   "id": "7fa7d026",
   "metadata": {},
   "outputs": [],
   "source": [
    "\n",
    "df['clean_content'] = df['content'].apply(clean_text)#apply cleaning to the content column \n",
    "#drop a row if it's not a clean content\n",
    "df_clean = df.dropna(subset=['clean_content']).reset_index(drop=True)"
   ]
  },
  {
   "cell_type": "code",
   "execution_count": 6,
   "id": "fa967929",
   "metadata": {},
   "outputs": [],
   "source": [
    "df_clean.to_csv(\"duolingo_reviews_cleanwemoji.csv\", index=False)"
   ]
  }
 ],
 "metadata": {
  "kernelspec": {
   "display_name": "nlp",
   "language": "python",
   "name": "python3"
  },
  "language_info": {
   "codemirror_mode": {
    "name": "ipython",
    "version": 3
   },
   "file_extension": ".py",
   "mimetype": "text/x-python",
   "name": "python",
   "nbconvert_exporter": "python",
   "pygments_lexer": "ipython3",
   "version": "3.13.5"
  }
 },
 "nbformat": 4,
 "nbformat_minor": 5
}
