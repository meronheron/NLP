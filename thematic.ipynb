{
 "cells": [
  {
   "cell_type": "code",
   "execution_count": null,
   "id": "2d80aa45",
   "metadata": {},
   "outputs": [],
   "source": [
    "import pandas as pd\n",
    "from sklearn.feature_extraction.text import TfidfVectorizer\n",
    "from sklearn.decomposition import LatentDirichletAllocation\n",
    "import matplotlib.pyplot as plt\n",
    "import seaborn as sns"
   ]
  },
  {
   "cell_type": "code",
   "execution_count": null,
   "id": "326e39ba",
   "metadata": {},
   "outputs": [],
   "source": [
    "df = pd.read_csv(\"duolingo_reviews_cleaned.csv\")"
   ]
  },
  {
   "cell_type": "code",
   "execution_count": null,
   "id": "26e03b2a",
   "metadata": {},
   "outputs": [],
   "source": [
    "#vectorization using TF-IDF\n",
    "vectorizer = TfidfVectorizer(stop_words='english', max_features=5000)\n",
    "X = vectorizer.fit_transform(df['content'])"
   ]
  },
  {
   "cell_type": "code",
   "execution_count": null,
   "id": "bee26f89",
   "metadata": {},
   "outputs": [],
   "source": [
    "#apply LDA for thematic analysis with 4 themes\n",
    "lda = LatentDirichletAllocation(\n",
    "n_components=4, \n",
    "random_state=42,\n",
    "learning_method=\"online\"\n",
    ")\n",
    "lda.fit(X)"
   ]
  },
  {
   "cell_type": "code",
   "execution_count": null,
   "id": "0fb0f46d",
   "metadata": {},
   "outputs": [],
   "source": [
    "# get the top words in each theme\n",
    "terms = vectorizer.get_feature_names_out()\n",
    "themes = {}\n",
    "for idx, topic in enumerate(lda.components_):\n",
    "    top_terms = [terms[i] for i in topic.argsort()[-5:]] # top 5 words\n",
    "    themes[f\"Theme {idx+1}\"] = top_terms"
   ]
  }
 ],
 "metadata": {
  "kernelspec": {
   "display_name": "nlp",
   "language": "python",
   "name": "python3"
  },
  "language_info": {
   "name": "python",
   "version": "3.13.5"
  }
 },
 "nbformat": 4,
 "nbformat_minor": 5
}
