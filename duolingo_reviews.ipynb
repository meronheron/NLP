{
 "cells": [
  {
   "cell_type": "code",
   "execution_count": null,
   "id": "a2c4113d",
   "metadata": {},
   "outputs": [],
   "source": [
    "#!pip install google-play-scraper pandas"
   ]
  },
  {
   "cell_type": "code",
   "execution_count": 1,
   "id": "220ca2d7",
   "metadata": {},
   "outputs": [],
   "source": [
    "from google_play_scraper import reviews, Sort\n",
    "import pandas as pd"
   ]
  },
  {
   "cell_type": "code",
   "execution_count": 2,
   "id": "b48c1b09",
   "metadata": {},
   "outputs": [],
   "source": [
    "APP_ID = \"com.duolingo\"          \n",
    "all_reviews = []         \n",
    "token = None  "
   ]
  },
  {
   "cell_type": "code",
   "execution_count": 3,
   "id": "f1cb6ae9",
   "metadata": {},
   "outputs": [],
   "source": [
    "while len(all_reviews) < 2000:\n",
    "    batch, token = reviews(\n",
    "        APP_ID,\n",
    "        lang=\"en\",          \n",
    "        country=\"us\",      \n",
    "        sort=Sort.NEWEST,    # the most recent reviews first\n",
    "        count=200,           # the number of maximum reviews per request till it reaches 200\n",
    "        continuation_token=token\n",
    "    )\n",
    "    all_reviews.extend(batch)\n",
    "    if not token:  # stop if there are no more reviews\n",
    "        break"
   ]
  },
  {
   "cell_type": "code",
   "execution_count": 4,
   "id": "39b36622",
   "metadata": {},
   "outputs": [
    {
     "name": "stdout",
     "output_type": "stream",
     "text": [
      "Collected a total of 2000 reviews\n"
     ]
    }
   ],
   "source": [
    "print(f\"Collected a total of {len(all_reviews)} reviews\")"
   ]
  },
  {
   "cell_type": "code",
   "execution_count": 7,
   "id": "01e66cd5",
   "metadata": {},
   "outputs": [],
   "source": [
    "df = pd.DataFrame(all_reviews)\n",
    "df = df[['content', 'score', 'at']]  # keep review text, rating, and date\n",
    "df.to_csv(\"duolingo_reviews.csv\", index=False)"
   ]
  }
 ],
 "metadata": {
  "kernelspec": {
   "display_name": "nlp",
   "language": "python",
   "name": "python3"
  },
  "language_info": {
   "codemirror_mode": {
    "name": "ipython",
    "version": 3
   },
   "file_extension": ".py",
   "mimetype": "text/x-python",
   "name": "python",
   "nbconvert_exporter": "python",
   "pygments_lexer": "ipython3",
   "version": "3.13.5"
  }
 },
 "nbformat": 4,
 "nbformat_minor": 5
}
